{
 "cells": [
  {
   "cell_type": "markdown",
   "metadata": {},
   "source": [
    "# TreadWise Tire Co. - AI Business Agent\n",
    "\n",
    "**Student:** Mounir Khalil  \n",
    "**ID:** 202100437  \n",
    "\n",
    "This notebook implements an AI-powered chatbot for TreadWise Tire Co., a smart tire company offering mobile installation, IoT fleet monitoring, and sustainable tire solutions."
   ]
  },
  {
   "cell_type": "markdown",
   "metadata": {},
   "source": [
    "## 1. Setup and Imports"
   ]
  },
  {
   "cell_type": "code",
   "execution_count": null,
   "metadata": {},
   "outputs": [],
   "source": [
    "# Install required packages\n",
    "!pip install -q openai gradio python-dotenv PyPDF2"
   ]
  },
  {
   "cell_type": "code",
   "execution_count": null,
   "metadata": {},
   "outputs": [],
   "source": [
    "import os\n",
    "import json\n",
    "from datetime import datetime\n",
    "from openai import OpenAI\n",
    "import gradio as gr\n",
    "from dotenv import load_dotenv\n",
    "\n",
    "# Load environment variables\n",
    "load_dotenv()\n",
    "\n",
    "# Initialize OpenAI client\n",
    "client = OpenAI(api_key=os.getenv('OPENAI_API_KEY'))"
   ]
  },
  {
   "cell_type": "markdown",
   "metadata": {},
   "source": [
    "## 2. Load Business Information"
   ]
  },
  {
   "cell_type": "code",
   "execution_count": null,
   "metadata": {},
   "outputs": [],
   "source": "# Load business summary\nwith open('me/Business_summary.txt', 'r') as f:\n    business_summary = f.read()\n\nprint(\"Business Summary Loaded:\")\nprint(business_summary[:200] + \"...\")"
  },
  {
   "cell_type": "markdown",
   "metadata": {},
   "source": [
    "## 3. Tool Functions\n",
    "\n",
    "These tools allow the agent to:\n",
    "- Collect customer leads (name, email, message)\n",
    "- Record feedback on questions it cannot answer"
   ]
  },
  {
   "cell_type": "code",
   "execution_count": null,
   "metadata": {},
   "outputs": [],
   "source": [
    "def record_customer_interest(email: str, name: str, message: str) -> str:\n",
    "    \"\"\"\n",
    "    Record customer interest by logging their contact information and message.\n",
    "    \n",
    "    Args:\n",
    "        email: Customer's email address\n",
    "        name: Customer's name\n",
    "        message: Customer's message or inquiry\n",
    "    \n",
    "    Returns:\n",
    "        Confirmation message\n",
    "    \"\"\"\n",
    "    timestamp = datetime.now().strftime(\"%Y-%m-%d %H:%M:%S\")\n",
    "    \n",
    "    # Create lead entry\n",
    "    lead_entry = {\n",
    "        \"timestamp\": timestamp,\n",
    "        \"name\": name,\n",
    "        \"email\": email,\n",
    "        \"message\": message\n",
    "    }\n",
    "    \n",
    "    # Log to file\n",
    "    with open('customer_leads.jsonl', 'a') as f:\n",
    "        f.write(json.dumps(lead_entry) + '\\n')\n",
    "    \n",
    "    # Print for visibility\n",
    "    print(f\"\\n{'='*60}\")\n",
    "    print(\"NEW CUSTOMER LEAD RECORDED\")\n",
    "    print(f\"{'='*60}\")\n",
    "    print(f\"Timestamp: {timestamp}\")\n",
    "    print(f\"Name: {name}\")\n",
    "    print(f\"Email: {email}\")\n",
    "    print(f\"Message: {message}\")\n",
    "    print(f\"{'='*60}\\n\")\n",
    "    \n",
    "    return f\"Thank you, {name}! Your information has been recorded. Our team will reach out to you at {email} shortly.\"\n",
    "\n",
    "\n",
    "def record_feedback(question: str) -> str:\n",
    "    \"\"\"\n",
    "    Record unanswered questions or feedback for improvement.\n",
    "    \n",
    "    Args:\n",
    "        question: The question or feedback that couldn't be answered\n",
    "    \n",
    "    Returns:\n",
    "        Confirmation message\n",
    "    \"\"\"\n",
    "    timestamp = datetime.now().strftime(\"%Y-%m-%d %H:%M:%S\")\n",
    "    \n",
    "    # Create feedback entry\n",
    "    feedback_entry = {\n",
    "        \"timestamp\": timestamp,\n",
    "        \"question\": question\n",
    "    }\n",
    "    \n",
    "    # Log to file\n",
    "    with open('feedback_log.jsonl', 'a') as f:\n",
    "        f.write(json.dumps(feedback_entry) + '\\n')\n",
    "    \n",
    "    # Print for visibility\n",
    "    print(f\"\\n{'='*60}\")\n",
    "    print(\"FEEDBACK/UNANSWERED QUESTION LOGGED\")\n",
    "    print(f\"{'='*60}\")\n",
    "    print(f\"Timestamp: {timestamp}\")\n",
    "    print(f\"Question: {question}\")\n",
    "    print(f\"{'='*60}\\n\")\n",
    "    \n",
    "    return \"Question logged for review by our team.\""
   ]
  },
  {
   "cell_type": "markdown",
   "metadata": {},
   "source": [
    "## 4. Tool Definitions for OpenAI\n",
    "\n",
    "Define the tool schemas that OpenAI will use to understand when and how to call our functions."
   ]
  },
  {
   "cell_type": "code",
   "execution_count": null,
   "metadata": {},
   "outputs": [],
   "source": [
    "tools = [\n",
    "    {\n",
    "        \"type\": \"function\",\n",
    "        \"function\": {\n",
    "            \"name\": \"record_customer_interest\",\n",
    "            \"description\": \"Record customer contact information when they want to learn more, schedule service, get a quote, or express interest in TreadWise services.\",\n",
    "            \"parameters\": {\n",
    "                \"type\": \"object\",\n",
    "                \"properties\": {\n",
    "                    \"email\": {\n",
    "                        \"type\": \"string\",\n",
    "                        \"description\": \"Customer's email address\"\n",
    "                    },\n",
    "                    \"name\": {\n",
    "                        \"type\": \"string\",\n",
    "                        \"description\": \"Customer's full name\"\n",
    "                    },\n",
    "                    \"message\": {\n",
    "                        \"type\": \"string\",\n",
    "                        \"description\": \"Customer's inquiry, request, or message\"\n",
    "                    }\n",
    "                },\n",
    "                \"required\": [\"email\", \"name\", \"message\"]\n",
    "            }\n",
    "        }\n",
    "    },\n",
    "    {\n",
    "        \"type\": \"function\",\n",
    "        \"function\": {\n",
    "            \"name\": \"record_feedback\",\n",
    "            \"description\": \"Log questions that you cannot answer or topics outside your knowledge base for team review.\",\n",
    "            \"parameters\": {\n",
    "                \"type\": \"object\",\n",
    "                \"properties\": {\n",
    "                    \"question\": {\n",
    "                        \"type\": \"string\",\n",
    "                        \"description\": \"The question or topic you cannot answer\"\n",
    "                    }\n",
    "                },\n",
    "                \"required\": [\"question\"]\n",
    "            }\n",
    "        }\n",
    "    }\n",
    "]\n",
    "\n",
    "# Map function names to actual functions\n",
    "available_functions = {\n",
    "    \"record_customer_interest\": record_customer_interest,\n",
    "    \"record_feedback\": record_feedback\n",
    "}"
   ]
  },
  {
   "cell_type": "markdown",
   "metadata": {},
   "source": [
    "## 5. System Prompt\n",
    "\n",
    "Define the agent's personality, knowledge base, and behavior guidelines."
   ]
  },
  {
   "cell_type": "code",
   "execution_count": null,
   "metadata": {},
   "outputs": [],
   "source": [
    "system_prompt = f\"\"\"\n",
    "You are a friendly and knowledgeable customer service agent for TreadWise Tire Co.\n",
    "\n",
    "BUSINESS CONTEXT:\n",
    "{business_summary}\n",
    "\n",
    "YOUR ROLE:\n",
    "- Answer questions about TreadWise's services, team, technology, and sustainability efforts\n",
    "- Help customers understand our Smart Tread™ IoT monitoring platform\n",
    "- Explain our mobile installation service and how it works\n",
    "- Discuss our circular economy model (retreading, refurbishment, recycling)\n",
    "- Provide information about our membership program and pricing\n",
    "- Address fleet management and commercial tire solutions\n",
    "\n",
    "GUIDELINES:\n",
    "1. Stay in character as TreadWise's representative at all times\n",
    "2. Be warm, professional, and solution-oriented\n",
    "3. When customers express interest in services or want to learn more, collect their contact info using record_customer_interest\n",
    "4. Encourage interested visitors to leave their contact details so our team can follow up\n",
    "5. If you encounter a question you cannot answer from the business context, use record_feedback to log it\n",
    "6. Focus on TreadWise's unique value: Smart Tread™ analytics, mobile service, sustainability, and transparent pricing\n",
    "7. Be enthusiastic about our mission to make road travel safer and greener\n",
    "8. Never make up information not provided in the business context\n",
    "\n",
    "CONTACT COLLECTION:\n",
    "When customers:\n",
    "- Want to schedule a service\n",
    "- Request a quote\n",
    "- Ask about fleet solutions\n",
    "- Express interest in membership\n",
    "- Want more detailed information\n",
    "→ Politely ask for their name, email, and details about their needs, then use record_customer_interest\n",
    "\n",
    "Remember: You represent an innovative tire company that combines technology, convenience, and sustainability!\n",
    "\"\"\""
   ]
  },
  {
   "cell_type": "markdown",
   "metadata": {},
   "source": [
    "## 6. Chat Agent Implementation\n",
    "\n",
    "Core logic for handling conversations with tool calling support."
   ]
  },
  {
   "cell_type": "code",
   "execution_count": null,
   "metadata": {},
   "outputs": [],
   "source": [
    "def run_conversation(messages):\n",
    "    \"\"\"\n",
    "    Run a conversation turn with the AI agent, handling tool calls if needed.\n",
    "    \n",
    "    Args:\n",
    "        messages: List of conversation messages\n",
    "    \n",
    "    Returns:\n",
    "        Assistant's response text\n",
    "    \"\"\"\n",
    "    # First API call - get the assistant's response\n",
    "    response = client.chat.completions.create(\n",
    "        model=\"gpt-4o-mini\",\n",
    "        messages=messages,\n",
    "        tools=tools,\n",
    "        tool_choice=\"auto\"\n",
    "    )\n",
    "    \n",
    "    response_message = response.choices[0].message\n",
    "    tool_calls = response_message.tool_calls\n",
    "    \n",
    "    # If no tool calls, return the response\n",
    "    if not tool_calls:\n",
    "        return response_message.content\n",
    "    \n",
    "    # Handle tool calls\n",
    "    messages.append(response_message)\n",
    "    \n",
    "    for tool_call in tool_calls:\n",
    "        function_name = tool_call.function.name\n",
    "        function_args = json.loads(tool_call.function.arguments)\n",
    "        \n",
    "        # Execute the function\n",
    "        function_to_call = available_functions[function_name]\n",
    "        function_response = function_to_call(**function_args)\n",
    "        \n",
    "        # Add tool response to messages\n",
    "        messages.append({\n",
    "            \"tool_call_id\": tool_call.id,\n",
    "            \"role\": \"tool\",\n",
    "            \"name\": function_name,\n",
    "            \"content\": function_response\n",
    "        })\n",
    "    \n",
    "    # Get final response after tool execution\n",
    "    second_response = client.chat.completions.create(\n",
    "        model=\"gpt-4o-mini\",\n",
    "        messages=messages\n",
    "    )\n",
    "    \n",
    "    return second_response.choices[0].message.content"
   ]
  },
  {
   "cell_type": "markdown",
   "metadata": {},
   "source": [
    "## 7. Gradio Chat Interface\n",
    "\n",
    "Create an interactive web interface for the chatbot."
   ]
  },
  {
   "cell_type": "code",
   "execution_count": null,
   "metadata": {},
   "outputs": [],
   "source": "# Initialize conversation history\nconversation_history = [{\"role\": \"system\", \"content\": system_prompt}]\n\ndef chat_function(user_message, history):\n    \"\"\"\n    Handle chat messages in Gradio interface.\n    \n    Args:\n        user_message: User's input message\n        history: Gradio chat history (not used, we maintain our own)\n    \n    Returns:\n        Assistant's response\n    \"\"\"\n    global conversation_history\n    \n    try:\n        # Add user message to history\n        conversation_history.append({\"role\": \"user\", \"content\": user_message})\n        \n        # Get assistant response\n        assistant_response = run_conversation(conversation_history)\n        \n        # Ensure response is a string\n        if assistant_response is None:\n            assistant_response = \"I apologize, but I encountered an issue. Please try again.\"\n        \n        assistant_response = str(assistant_response)\n        \n        # Add assistant response to history\n        conversation_history.append({\"role\": \"assistant\", \"content\": assistant_response})\n        \n        return assistant_response\n    \n    except Exception as e:\n        error_msg = f\"I apologize, but I encountered an error: {str(e)}\"\n        print(f\"Error in chat_function: {e}\")\n        return error_msg\n\n# Create Gradio interface\ndemo = gr.ChatInterface(\n    fn=chat_function,\n    title=\"TreadWise Tire Co. - AI Assistant\",\n    description=\"Welcome to TreadWise! Ask me about our smart tire solutions, mobile installation, IoT monitoring, or sustainability programs. I'm here to help!\",\n    examples=[\n        \"What services does TreadWise offer?\",\n        \"Tell me about the Smart Tread platform\",\n        \"How does mobile installation work?\",\n        \"What makes TreadWise different from other tire companies?\",\n        \"Do you offer fleet management solutions?\",\n        \"I'm interested in scheduling a tire installation\"\n    ]\n)"
  },
  {
   "cell_type": "markdown",
   "metadata": {},
   "source": [
    "## 8. Launch the Chatbot"
   ]
  },
  {
   "cell_type": "code",
   "execution_count": null,
   "metadata": {},
   "outputs": [],
   "source": [
    "# Launch the interface\n",
    "demo.launch(share=True, debug=True)"
   ]
  },
  {
   "cell_type": "markdown",
   "metadata": {},
   "source": [
    "## 9. Test the Agent (Optional)\n",
    "\n",
    "Test the agent programmatically without the Gradio interface."
   ]
  },
  {
   "cell_type": "code",
   "execution_count": null,
   "metadata": {},
   "outputs": [],
   "source": [
    "# Test conversation\n",
    "test_messages = [\n",
    "    {\"role\": \"system\", \"content\": system_prompt},\n",
    "    {\"role\": \"user\", \"content\": \"What is TreadWise Tire Co?\"}\n",
    "]\n",
    "\n",
    "response = run_conversation(test_messages)\n",
    "print(\"Assistant:\", response)"
   ]
  },
  {
   "cell_type": "code",
   "execution_count": null,
   "metadata": {},
   "outputs": [],
   "source": [
    "# Test lead collection\n",
    "test_messages2 = [\n",
    "    {\"role\": \"system\", \"content\": system_prompt},\n",
    "    {\"role\": \"user\", \"content\": \"I'd like to schedule a mobile tire installation for my SUV. My name is John Doe and my email is john.doe@example.com\"}\n",
    "]\n",
    "\n",
    "response = run_conversation(test_messages2)\n",
    "print(\"\\nAssistant:\", response)"
   ]
  },
  {
   "cell_type": "markdown",
   "metadata": {},
   "source": [
    "## 10. View Collected Leads and Feedback"
   ]
  },
  {
   "cell_type": "code",
   "execution_count": null,
   "metadata": {},
   "outputs": [],
   "source": [
    "# View customer leads\n",
    "try:\n",
    "    with open('customer_leads.jsonl', 'r') as f:\n",
    "        print(\"CUSTOMER LEADS:\")\n",
    "        print(\"=\"*60)\n",
    "        for line in f:\n",
    "            lead = json.loads(line)\n",
    "            print(f\"Timestamp: {lead['timestamp']}\")\n",
    "            print(f\"Name: {lead['name']}\")\n",
    "            print(f\"Email: {lead['email']}\")\n",
    "            print(f\"Message: {lead['message']}\")\n",
    "            print(\"-\"*60)\nexcept FileNotFoundError:\n",
    "    print(\"No customer leads recorded yet.\")"
   ]
  },
  {
   "cell_type": "code",
   "execution_count": null,
   "metadata": {},
   "outputs": [],
   "source": [
    "# View feedback log\n",
    "try:\n",
    "    with open('feedback_log.jsonl', 'r') as f:\n",
    "        print(\"\\nFEEDBACK LOG:\")\n",
    "        print(\"=\"*60)\n",
    "        for line in f:\n",
    "            feedback = json.loads(line)\n",
    "            print(f\"Timestamp: {feedback['timestamp']}\")\n",
    "            print(f\"Question: {feedback['question']}\")\n",
    "            print(\"-\"*60)\nexcept FileNotFoundError:\n",
    "    print(\"No feedback recorded yet.\")"
   ]
  }
 ],
 "metadata": {
  "kernelspec": {
   "display_name": "Python 3",
   "language": "python",
   "name": "python3"
  },
  "language_info": {
   "codemirror_mode": {
    "name": "ipython",
    "version": 3
   },
   "file_extension": ".py",
   "mimetype": "text/x-python",
   "name": "python",
   "nbconvert_exporter": "python",
   "pygments_lexer": "ipython3",
   "version": "3.10.0"
  }
 },
 "nbformat": 4,
 "nbformat_minor": 4
}